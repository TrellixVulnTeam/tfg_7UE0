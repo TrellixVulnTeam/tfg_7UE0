{
 "cells": [
  {
   "cell_type": "markdown",
   "metadata": {},
   "source": [
    "### Cambiamos el directorio de trabajo (en el servidor ngpu.ugr.es)"
   ]
  },
  {
   "cell_type": "code",
   "execution_count": 23,
   "metadata": {},
   "outputs": [
    {
     "name": "stdout",
     "output_type": "stream",
     "text": [
      "/mnt/homeGPU1/pbedmar/pycharm/experiments/taming_transformers/taming-transformers\n"
     ]
    }
   ],
   "source": [
    "%cd /mnt/homeGPU1/pbedmar/pycharm/experiments/taming_transformers/taming-transformers/"
   ]
  },
  {
   "cell_type": "markdown",
   "source": [
    "## Normalización de imágenes"
   ],
   "metadata": {
    "collapsed": false,
    "pycharm": {
     "name": "#%% md\n"
    }
   }
  },
  {
   "cell_type": "markdown",
   "source": [
    "### Funciones de normalización de imágenes, separación entre train y test para taming-transformer"
   ],
   "metadata": {
    "collapsed": false,
    "pycharm": {
     "name": "#%% md\n"
    }
   }
  },
  {
   "cell_type": "code",
   "execution_count": 24,
   "outputs": [],
   "source": [
    "from PIL import Image, ImageOps\n",
    "import glob"
   ],
   "metadata": {
    "collapsed": false,
    "pycharm": {
     "name": "#%%\n"
    }
   }
  },
  {
   "cell_type": "code",
   "execution_count": 25,
   "outputs": [],
   "source": [
    "def resize_with_padding(img, required_size):\n",
    "    img.thumbnail((required_size, required_size))\n",
    "    delta_w = required_size - img.size[0]\n",
    "    delta_h = required_size - img.size[1]\n",
    "    pad_w = delta_w // 2\n",
    "    pad_h = delta_h // 2\n",
    "    padding = (pad_w, pad_h, delta_w - pad_w, delta_h - pad_h)\n",
    "    return ImageOps.expand(img, padding, fill=(255,255,255))\n",
    "\n",
    "def apply_resize(images_path, preprocess_folder=\"preprocess\", required_size=192):\n",
    "    preprocess_folder = preprocess_folder + \"/\"\n",
    "    filenames = glob.glob(images_path+\"*.png\")\n",
    "    os.makedirs(images_path+preprocess_folder, exist_ok=True)\n",
    "\n",
    "    for filename in filenames:\n",
    "        img = Image.open(filename)\n",
    "        width, height = img.size\n",
    "        img = resize_with_padding(img, required_size)\n",
    "\n",
    "        img.convert(\"RGB\").save(images_path+preprocess_folder+filename.split(\"/\")[-1].replace(\"png\",\"jpg\"))\n",
    "\n",
    "def gen_metadata(directory, seed=1):\n",
    "    directory = directory+\"/\"\n",
    "    filenames = glob.glob(directory+\"*.jpg\")\n",
    "    train, test = train_test_split(filenames, test_size=0.25, random_state=seed)\n",
    "\n",
    "    with open(directory+\"xx_train.txt\", \"w\") as f:\n",
    "        for filename in train[:-1]:\n",
    "            f.write(filename+\"\\n\")\n",
    "        f.write(train[-1])\n",
    "\n",
    "    with open(directory+\"xx_test.txt\", \"w\") as f:\n",
    "        for filename in test[:-1]:\n",
    "            f.write(filename+\"\\n\")\n",
    "        f.write(test[-1])"
   ],
   "metadata": {
    "collapsed": false,
    "pycharm": {
     "name": "#%%\n"
    }
   }
  },
  {
   "cell_type": "markdown",
   "metadata": {
    "id": "YQ9Kd8wP0BOY"
   },
   "source": [
    "### Preprocesando imágenes de moléculas organometálicas y los contraejemplos de la Universidad de Neguev (articles_molecules)"
   ]
  },
  {
   "cell_type": "markdown",
   "source": [
    "256x256 molecules"
   ],
   "metadata": {
    "collapsed": false
   }
  },
  {
   "cell_type": "code",
   "execution_count": 26,
   "metadata": {
    "executionInfo": {
     "elapsed": 7,
     "status": "ok",
     "timestamp": 1648059284712,
     "user": {
      "displayName": "Pedro Bedmar López",
      "photoUrl": "https://lh3.googleusercontent.com/a-/AOh14GgDTwUVI1l0xxb1JsPU-jpXD7nANK221nZ_Rfet=s64",
      "userId": "16390218131444039330"
     },
     "user_tz": -60
    },
    "id": "o8EabD0L0azC"
   },
   "outputs": [],
   "source": [
    "images_path = \"../../../datasets/negev/articles_molecules/\"\n",
    "apply_resize(images_path, \"preprocess256/\", 256)"
   ]
  },
  {
   "cell_type": "code",
   "execution_count": 27,
   "metadata": {
    "executionInfo": {
     "elapsed": 813,
     "status": "ok",
     "timestamp": 1648059285520,
     "user": {
      "displayName": "Pedro Bedmar López",
      "photoUrl": "https://lh3.googleusercontent.com/a-/AOh14GgDTwUVI1l0xxb1JsPU-jpXD7nANK221nZ_Rfet=s64",
      "userId": "16390218131444039330"
     },
     "user_tz": -60
    },
    "id": "6nRzXcaaBW30"
   },
   "outputs": [],
   "source": [
    "preprop_images_path = images_path+\"preprocess256/\"\n",
    "gen_metadata(preprop_images_path)"
   ]
  },
  {
   "cell_type": "markdown",
   "source": [
    "256x256 contraejemplos"
   ],
   "metadata": {
    "collapsed": false
   }
  },
  {
   "cell_type": "code",
   "execution_count": 28,
   "outputs": [],
   "source": [
    "images_path = \"../../../datasets/negev/not_molecules/\"\n",
    "apply_resize(images_path, \"preprocess256/\", 256)"
   ],
   "metadata": {
    "collapsed": false,
    "pycharm": {
     "name": "#%%\n"
    }
   }
  },
  {
   "cell_type": "code",
   "execution_count": 29,
   "outputs": [],
   "source": [
    "preprop_images_path = images_path+\"preprocess256/\"\n",
    "gen_metadata(preprop_images_path)"
   ],
   "metadata": {
    "collapsed": false,
    "pycharm": {
     "name": "#%%\n"
    }
   }
  },
  {
   "cell_type": "markdown",
   "metadata": {
    "id": "gsfwptG30dDO"
   },
   "source": [
    "## Aumentando conjunto de imágenes"
   ]
  },
  {
   "cell_type": "code",
   "execution_count": 30,
   "outputs": [],
   "source": [
    "import os\n",
    "\n",
    "import imgaug as ia\n",
    "from imgaug import augmenters as iaa\n",
    "from sklearn.model_selection import train_test_split\n",
    "import cv2"
   ],
   "metadata": {
    "collapsed": false,
    "pycharm": {
     "name": "#%%\n"
    }
   }
  },
  {
   "cell_type": "markdown",
   "source": [
    "### Tres conjuntos de transformaciones de imágenes que vamos a aplicar"
   ],
   "metadata": {
    "collapsed": false,
    "pycharm": {
     "name": "#%% md\n"
    }
   }
  },
  {
   "cell_type": "code",
   "source": [
    "augmentation_seq = iaa.Sequential([\n",
    "                      iaa.Sometimes(0.5, iaa.GaussianBlur(sigma=(0, 0.5))),\n",
    "                      iaa.Affine(\n",
    "                          scale={\"x\": (0.8, 1.0), \"y\": (0.8, 1.0)},\n",
    "                          rotate=(-25, 25),\n",
    "                          shear=(-5,5),\n",
    "                          cval=255\n",
    "                      )\n",
    "], random_order=True)\n",
    "\n",
    "\n",
    "augmentation_seq_2 = iaa.Sequential([\n",
    "                      iaa.Sometimes(0.5, iaa.GaussianBlur(sigma=(0, 0.5))),\n",
    "                      iaa.LinearContrast((0.75, 1.5)),\n",
    "                      iaa.Affine(\n",
    "                          scale={\"x\": (0.7, 1.0), \"y\": (0.7, 1.0)},\n",
    "                          rotate=(-45, 45),\n",
    "                          shear=(-10,10),\n",
    "                          translate_percent={\"x\": (-0.1, 0.1), \"y\": (-0.1, 0.1)},\n",
    "                          cval=255\n",
    "                      ),\n",
    "                      iaa.Multiply((0.8, 1.2), per_channel=0.25),\n",
    "                      iaa.AdditiveGaussianNoise(loc=0, scale=(0.0, 0.05*255), per_channel=0.3),\n",
    "                      iaa.Fliplr(0.3)\n",
    "], random_order=True)\n",
    "\n",
    "augmentation_seq_3 = iaa.Sequential([\n",
    "                      iaa.Sometimes(0.7, iaa.GaussianBlur(sigma=(0, 0.6))),\n",
    "                      iaa.LinearContrast((0.75, 2)),\n",
    "                      iaa.Affine(\n",
    "                          scale={\"x\": (0.7, 1.0), \"y\": (0.7, 1.0)},\n",
    "                          rotate=(-45, 45),\n",
    "                          shear=(-10,10),\n",
    "                          translate_percent={\"x\": (-0.2, 0.2), \"y\": (-0.1, 0.1)},\n",
    "                          cval=255\n",
    "                      ),\n",
    "                      iaa.Multiply((0.6, 1.4), per_channel=0.25),\n",
    "                      iaa.AdditiveGaussianNoise(loc=0, scale=(0.0, 0.05*255), per_channel=0.3),\n",
    "                      iaa.Fliplr(0.2),\n",
    "                      iaa.Flipud(0.2),\n",
    "                      iaa.Sometimes(0.7, iaa.ElasticTransformation(alpha=(0.75,3), sigma=(0.2, 0.5))),\n",
    "                      iaa.OneOf([\n",
    "                          iaa.Sharpen(alpha=(0,1), lightness=(0.5, 1.5)),\n",
    "                          iaa.Emboss(alpha=(0,1), strength=(0.75, 2))\n",
    "                      ]),\n",
    "                      iaa.Dropout((0.01,0.15), per_channel=0.5)\n",
    "], random_order=True)"
   ],
   "metadata": {
    "collapsed": false,
    "pycharm": {
     "name": "#%%\n"
    }
   },
   "execution_count": 31,
   "outputs": []
  },
  {
   "cell_type": "code",
   "execution_count": 32,
   "metadata": {
    "executionInfo": {
     "elapsed": 217909,
     "status": "ok",
     "timestamp": 1648059504725,
     "user": {
      "displayName": "Pedro Bedmar López",
      "photoUrl": "https://lh3.googleusercontent.com/a-/AOh14GgDTwUVI1l0xxb1JsPU-jpXD7nANK221nZ_Rfet=s64",
      "userId": "16390218131444039330"
     },
     "user_tz": -60
    },
    "id": "LAb4F_ld4mox"
   },
   "outputs": [],
   "source": [
    "def aug(directory, directory_aug, aug_seq, repeat=2, seed=1):\n",
    "  ia.seed(seed)\n",
    "  directory = directory + \"/\"\n",
    "  filenames = glob.glob(directory+\"*.jpg\")\n",
    "\n",
    "  images = []\n",
    "  for filename in filenames:\n",
    "    img = cv2.imread(filename)\n",
    "    images.append(img)\n",
    "\n",
    "  augmented_images = images + aug_seq(images=images*repeat)\n",
    "\n",
    "  os.makedirs(directory+directory_aug, exist_ok=True)\n",
    "  count = 0\n",
    "  for img in augmented_images:\n",
    "    cv2.imwrite(directory+directory_aug+\"/\"+str(count)+\".jpg\", img)\n",
    "    count += 1"
   ]
  },
  {
   "cell_type": "markdown",
   "metadata": {
    "pycharm": {
     "name": "#%% md\n"
    }
   },
   "source": [
    "256x256 images"
   ]
  },
  {
   "cell_type": "code",
   "execution_count": 33,
   "outputs": [],
   "source": [
    "images_path = \"../../../datasets/negev/articles_molecules/\"\n",
    "preprop_images_path = images_path+\"preprocess256/\""
   ],
   "metadata": {
    "collapsed": false,
    "pycharm": {
     "name": "#%%\n"
    }
   }
  },
  {
   "cell_type": "code",
   "execution_count": 34,
   "outputs": [],
   "source": [
    "aug(preprop_images_path, \"aug\", augmentation_seq, repeat=3)\n",
    "gen_metadata(preprop_images_path+\"aug\")"
   ],
   "metadata": {
    "collapsed": false,
    "pycharm": {
     "name": "#%%\n"
    }
   }
  },
  {
   "cell_type": "code",
   "execution_count": 35,
   "outputs": [],
   "source": [
    "aug(preprop_images_path, \"aug2\", augmentation_seq_2, repeat=3)\n",
    "gen_metadata(preprop_images_path+\"aug2\")"
   ],
   "metadata": {
    "collapsed": false,
    "pycharm": {
     "name": "#%%\n"
    }
   }
  },
  {
   "cell_type": "code",
   "execution_count": 36,
   "outputs": [],
   "source": [
    "aug(preprop_images_path, \"aug3\", augmentation_seq_3, repeat=3)\n",
    "gen_metadata(preprop_images_path+\"aug3\")"
   ],
   "metadata": {
    "collapsed": false,
    "pycharm": {
     "name": "#%%\n"
    }
   }
  },
  {
   "cell_type": "markdown",
   "source": [
    "256x256 contraejemplos"
   ],
   "metadata": {
    "collapsed": false
   }
  },
  {
   "cell_type": "code",
   "execution_count": 37,
   "outputs": [],
   "source": [
    "images_path = \"../../../datasets/negev/not_molecules/\"\n",
    "preprop_images_path = images_path + \"preprocess256/\""
   ],
   "metadata": {
    "collapsed": false,
    "pycharm": {
     "name": "#%%\n"
    }
   }
  },
  {
   "cell_type": "code",
   "execution_count": 38,
   "outputs": [],
   "source": [
    "aug(preprop_images_path, \"aug\", augmentation_seq, repeat=2)\n",
    "gen_metadata(preprop_images_path+\"aug\")"
   ],
   "metadata": {
    "collapsed": false,
    "pycharm": {
     "name": "#%%\n"
    }
   }
  },
  {
   "cell_type": "code",
   "execution_count": 39,
   "outputs": [],
   "source": [
    "aug(preprop_images_path, \"aug2\", augmentation_seq_2, repeat=2)\n",
    "gen_metadata(preprop_images_path + \"aug2\")"
   ],
   "metadata": {
    "collapsed": false,
    "pycharm": {
     "name": "#%%\n"
    }
   }
  },
  {
   "cell_type": "code",
   "execution_count": 40,
   "outputs": [],
   "source": [
    "aug(preprop_images_path, \"aug3\", augmentation_seq_3, repeat=2)\n",
    "gen_metadata(preprop_images_path+\"aug3\")"
   ],
   "metadata": {
    "collapsed": false,
    "pycharm": {
     "name": "#%%\n"
    }
   }
  },
  {
   "cell_type": "markdown",
   "source": [
    "### Combinando moléculas organometálicas y contraejemplos en un mismo directorio"
   ],
   "metadata": {
    "collapsed": false,
    "pycharm": {
     "name": "#%% md\n"
    }
   }
  },
  {
   "cell_type": "markdown",
   "source": [
    "Concretamente, vamos a combinar los resultados de articles_molecules/preprocess256/aug2 con not_molecules/preprocess256. Así obtendremos un dataset balanceado entre ejemplos positivos y negativos"
   ],
   "metadata": {
    "collapsed": false
   }
  },
  {
   "cell_type": "code",
   "execution_count": 36,
   "outputs": [],
   "source": [
    "positive_filenames = glob.glob(\"../../../datasets/negev/articles_molecules/preprocess256/aug2/\"+\"*.jpg\")\n",
    "negative_filenames = glob.glob(\"../../../datasets/negev/not_molecules/preprocess256/\"+\"*.jpg\")\n",
    "\n",
    "combined_filenames = positive_filenames + negative_filenames"
   ],
   "metadata": {
    "collapsed": false,
    "pycharm": {
     "name": "#%%\n"
    }
   }
  },
  {
   "cell_type": "code",
   "execution_count": 37,
   "outputs": [],
   "source": [
    "new_directory = \"../../../datasets/negev/combined/256\"\n",
    "os.makedirs(new_directory+\"/\", exist_ok=True)\n",
    "\n",
    "for i, filename in enumerate(combined_filenames):\n",
    "    img = cv2.imread(filename)\n",
    "    cv2.imwrite(new_directory+\"/\"+str(i)+\".jpg\", img)"
   ],
   "metadata": {
    "collapsed": false,
    "pycharm": {
     "name": "#%%\n"
    }
   }
  },
  {
   "cell_type": "code",
   "execution_count": 38,
   "outputs": [],
   "source": [
    "gen_metadata(new_directory)"
   ],
   "metadata": {
    "collapsed": false,
    "pycharm": {
     "name": "#%%\n"
    }
   }
  },
  {
   "cell_type": "code",
   "execution_count": null,
   "outputs": [],
   "source": [],
   "metadata": {
    "collapsed": false,
    "pycharm": {
     "name": "#%%\n"
    }
   }
  }
 ],
 "metadata": {
  "colab": {
   "collapsed_sections": [],
   "name": "data_generation_and_aug.ipynb",
   "provenance": []
  },
  "kernelspec": {
   "display_name": "Python 3 (ipykernel)",
   "language": "python",
   "name": "python3"
  },
  "language_info": {
   "codemirror_mode": {
    "name": "ipython",
    "version": 3
   },
   "file_extension": ".py",
   "mimetype": "text/x-python",
   "name": "python",
   "nbconvert_exporter": "python",
   "pygments_lexer": "ipython3",
   "version": "3.8.12"
  }
 },
 "nbformat": 4,
 "nbformat_minor": 1
}