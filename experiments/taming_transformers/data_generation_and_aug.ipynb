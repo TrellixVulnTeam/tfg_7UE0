{
 "cells": [
  {
   "cell_type": "code",
   "execution_count": 1,
   "metadata": {
    "colab": {
     "base_uri": "https://localhost:8080/"
    },
    "executionInfo": {
     "elapsed": 18375,
     "status": "ok",
     "timestamp": 1648059122420,
     "user": {
      "displayName": "Pedro Bedmar López",
      "photoUrl": "https://lh3.googleusercontent.com/a-/AOh14GgDTwUVI1l0xxb1JsPU-jpXD7nANK221nZ_Rfet=s64",
      "userId": "16390218131444039330"
     },
     "user_tz": -60
    },
    "id": "kcre8naKTT9-",
    "outputId": "0f5b85e9-3718-4e21-faec-0a2b522a5564",
    "scrolled": true
   },
   "outputs": [
    {
     "name": "stdout",
     "output_type": "stream",
     "text": [
      "Mounted at /content/drive\n"
     ]
    }
   ],
   "source": [
    "from google.colab import drive\n",
    "drive.mount(\"/content/drive\")"
   ]
  },
  {
   "cell_type": "markdown",
   "metadata": {},
   "source": [
    "Google Colab"
   ]
  },
  {
   "cell_type": "code",
   "execution_count": 2,
   "metadata": {
    "colab": {
     "base_uri": "https://localhost:8080/"
    },
    "executionInfo": {
     "elapsed": 413,
     "status": "ok",
     "timestamp": 1648059139765,
     "user": {
      "displayName": "Pedro Bedmar López",
      "photoUrl": "https://lh3.googleusercontent.com/a-/AOh14GgDTwUVI1l0xxb1JsPU-jpXD7nANK221nZ_Rfet=s64",
      "userId": "16390218131444039330"
     },
     "user_tz": -60
    },
    "id": "EhjJ7xBswAxw",
    "outputId": "fc266750-6bd2-4f59-c159-1a3aa447161a"
   },
   "outputs": [
    {
     "name": "stdout",
     "output_type": "stream",
     "text": [
      "/content/drive/MyDrive/4_ING_INFORMATICA/tfg/tfg/experiments/taming_transformers/taming-transformers\n"
     ]
    }
   ],
   "source": [
    "%cd /content/drive/MyDrive/4_ING_INFORMATICA/tfg/tfg/experiments/taming_transformers/taming-transformers"
   ]
  },
  {
   "cell_type": "markdown",
   "metadata": {},
   "source": [
    "NGPU server"
   ]
  },
  {
   "cell_type": "code",
   "execution_count": 1,
   "metadata": {},
   "outputs": [
    {
     "name": "stdout",
     "output_type": "stream",
     "text": [
      "/mnt/homeGPU1/pbedmar/pycharm/experiments/taming_transformers/taming-transformers\n"
     ]
    }
   ],
   "source": [
    "%cd /mnt/homeGPU1/pbedmar/pycharm/experiments/taming_transformers/taming-transformers/"
   ]
  },
  {
   "cell_type": "markdown",
   "metadata": {
    "id": "YQ9Kd8wP0BOY"
   },
   "source": [
    "### Preprocesando imágenes de moléculas organometálicas y los contraejemplos de la Universidad de Neguev (articles_molecules)"
   ]
  },
  {
   "cell_type": "code",
   "execution_count": 2,
   "metadata": {
    "executionInfo": {
     "elapsed": 696,
     "status": "ok",
     "timestamp": 1648059166389,
     "user": {
      "displayName": "Pedro Bedmar López",
      "photoUrl": "https://lh3.googleusercontent.com/a-/AOh14GgDTwUVI1l0xxb1JsPU-jpXD7nANK221nZ_Rfet=s64",
      "userId": "16390218131444039330"
     },
     "user_tz": -60
    },
    "id": "M9ms9mNVz9bZ"
   },
   "outputs": [],
   "source": [
    "import os\n",
    "import glob\n",
    "from sklearn.model_selection import train_test_split\n",
    "from PIL import Image, ImageOps"
   ]
  },
  {
   "cell_type": "code",
   "execution_count": 3,
   "metadata": {
    "executionInfo": {
     "elapsed": 4,
     "status": "ok",
     "timestamp": 1648059166390,
     "user": {
      "displayName": "Pedro Bedmar López",
      "photoUrl": "https://lh3.googleusercontent.com/a-/AOh14GgDTwUVI1l0xxb1JsPU-jpXD7nANK221nZ_Rfet=s64",
      "userId": "16390218131444039330"
     },
     "user_tz": -60
    },
    "id": "Hw9kMNrkzYju"
   },
   "outputs": [],
   "source": [
    "def resize_with_padding(img, required_size):\n",
    "    img.thumbnail((required_size, required_size))\n",
    "    delta_w = required_size - img.size[0]\n",
    "    delta_h = required_size - img.size[1]\n",
    "    pad_w = delta_w // 2\n",
    "    pad_h = delta_h // 2\n",
    "    padding = (pad_w, pad_h, delta_w - pad_w, delta_h - pad_h)\n",
    "    return ImageOps.expand(img, padding, fill=(255,255,255))"
   ]
  },
  {
   "cell_type": "code",
   "source": [
    "def apply_resize(images_path, preprocess_folder=\"preprocess\", required_size=192):\n",
    "    preprocess_folder = preprocess_folder + \"/\"\n",
    "    filenames = glob.glob(images_path+\"*.png\")\n",
    "    os.makedirs(images_path+preprocess_folder, exist_ok=True)\n",
    "\n",
    "    for filename in filenames:\n",
    "      img = Image.open(filename)\n",
    "      width, height = img.size\n",
    "      img = resize_with_padding(img, required_size)\n",
    "\n",
    "      img.convert(\"RGB\").save(images_path+preprocess_folder+filename.split(\"/\")[-1].replace(\"png\",\"jpg\"))"
   ],
   "metadata": {
    "collapsed": false,
    "pycharm": {
     "name": "#%%\n"
    }
   },
   "execution_count": 4,
   "outputs": []
  },
  {
   "cell_type": "code",
   "execution_count": 5,
   "outputs": [],
   "source": [
    "def gen_metadata(directory):\n",
    "    directory = directory+\"/\"\n",
    "    filenames = glob.glob(directory+\"*.jpg\")\n",
    "    train, test = train_test_split(filenames, test_size=0.25, random_state=42)\n",
    "\n",
    "    with open(directory+\"xx_train.txt\", \"w\") as f:\n",
    "        for filename in train[:-1]:\n",
    "            f.write(filename+\"\\n\")\n",
    "        f.write(train[-1])\n",
    "\n",
    "    with open(directory+\"xx_test.txt\", \"w\") as f:\n",
    "        for filename in test[:-1]:\n",
    "            f.write(filename+\"\\n\")\n",
    "        f.write(test[-1])"
   ],
   "metadata": {
    "collapsed": false,
    "pycharm": {
     "name": "#%%\n"
    }
   }
  },
  {
   "cell_type": "markdown",
   "source": [
    "192x192 molecules"
   ],
   "metadata": {
    "collapsed": false
   }
  },
  {
   "cell_type": "code",
   "execution_count": 6,
   "metadata": {
    "executionInfo": {
     "elapsed": 64852,
     "status": "ok",
     "timestamp": 1648059284711,
     "user": {
      "displayName": "Pedro Bedmar López",
      "photoUrl": "https://lh3.googleusercontent.com/a-/AOh14GgDTwUVI1l0xxb1JsPU-jpXD7nANK221nZ_Rfet=s64",
      "userId": "16390218131444039330"
     },
     "user_tz": -60
    },
    "id": "G24wfgiw1Qnh"
   },
   "outputs": [],
   "source": [
    "images_path = \"../../../datasets/negev/articles_molecules/\"\n",
    "apply_resize(images_path)"
   ]
  },
  {
   "cell_type": "code",
   "execution_count": 7,
   "outputs": [],
   "source": [
    "preprop_images_path = images_path+\"preprocess/\"\n",
    "gen_metadata(preprop_images_path)"
   ],
   "metadata": {
    "collapsed": false,
    "pycharm": {
     "name": "#%%\n"
    }
   }
  },
  {
   "cell_type": "markdown",
   "source": [
    "256x256 molecules"
   ],
   "metadata": {
    "collapsed": false,
    "pycharm": {
     "name": "#%% md\n"
    }
   }
  },
  {
   "cell_type": "code",
   "execution_count": 8,
   "metadata": {
    "executionInfo": {
     "elapsed": 7,
     "status": "ok",
     "timestamp": 1648059284712,
     "user": {
      "displayName": "Pedro Bedmar López",
      "photoUrl": "https://lh3.googleusercontent.com/a-/AOh14GgDTwUVI1l0xxb1JsPU-jpXD7nANK221nZ_Rfet=s64",
      "userId": "16390218131444039330"
     },
     "user_tz": -60
    },
    "id": "o8EabD0L0azC"
   },
   "outputs": [],
   "source": [
    "images_path = \"../../../datasets/negev/articles_molecules/\"\n",
    "apply_resize(images_path, \"preprocess256/\", 256)"
   ]
  },
  {
   "cell_type": "code",
   "execution_count": 9,
   "metadata": {
    "executionInfo": {
     "elapsed": 813,
     "status": "ok",
     "timestamp": 1648059285520,
     "user": {
      "displayName": "Pedro Bedmar López",
      "photoUrl": "https://lh3.googleusercontent.com/a-/AOh14GgDTwUVI1l0xxb1JsPU-jpXD7nANK221nZ_Rfet=s64",
      "userId": "16390218131444039330"
     },
     "user_tz": -60
    },
    "id": "6nRzXcaaBW30"
   },
   "outputs": [],
   "source": [
    "preprop_images_path = images_path+\"preprocess256/\"\n",
    "gen_metadata(preprop_images_path)"
   ]
  },
  {
   "cell_type": "markdown",
   "source": [
    "256x256 contraejemplos"
   ],
   "metadata": {
    "collapsed": false
   }
  },
  {
   "cell_type": "code",
   "execution_count": 10,
   "outputs": [],
   "source": [
    "images_path = \"../../../datasets/negev/not_molecules/\"\n",
    "apply_resize(images_path, \"preprocess256/\", 256)"
   ],
   "metadata": {
    "collapsed": false,
    "pycharm": {
     "name": "#%%\n"
    }
   }
  },
  {
   "cell_type": "code",
   "execution_count": 11,
   "outputs": [],
   "source": [
    "preprop_images_path = images_path+\"preprocess256/\"\n",
    "gen_metadata(preprop_images_path)"
   ],
   "metadata": {
    "collapsed": false,
    "pycharm": {
     "name": "#%%\n"
    }
   }
  },
  {
   "cell_type": "markdown",
   "source": [
    "384x384 moleculas"
   ],
   "metadata": {
    "collapsed": false
   }
  },
  {
   "cell_type": "code",
   "execution_count": 17,
   "outputs": [],
   "source": [
    "images_path = \"../../../datasets/negev/articles_molecules/\"\n",
    "apply_resize(images_path, \"preprocess384/\", 384)"
   ],
   "metadata": {
    "collapsed": false,
    "pycharm": {
     "name": "#%%\n"
    }
   }
  },
  {
   "cell_type": "code",
   "execution_count": 18,
   "outputs": [],
   "source": [
    "preprop_images_path = images_path+\"preprocess384/\"\n",
    "gen_metadata(preprop_images_path)"
   ],
   "metadata": {
    "collapsed": false,
    "pycharm": {
     "name": "#%%\n"
    }
   }
  },
  {
   "cell_type": "markdown",
   "metadata": {
    "id": "gsfwptG30dDO"
   },
   "source": [
    "### Aumentando dataset"
   ]
  },
  {
   "cell_type": "code",
   "execution_count": 12,
   "metadata": {
    "executionInfo": {
     "elapsed": 1301,
     "status": "ok",
     "timestamp": 1648059286818,
     "user": {
      "displayName": "Pedro Bedmar López",
      "photoUrl": "https://lh3.googleusercontent.com/a-/AOh14GgDTwUVI1l0xxb1JsPU-jpXD7nANK221nZ_Rfet=s64",
      "userId": "16390218131444039330"
     },
     "user_tz": -60
    },
    "id": "Gkpo0nyJ0sx1"
   },
   "outputs": [],
   "source": [
    "import imgaug as ia\n",
    "from imgaug import augmenters as iaa\n",
    "\n",
    "augmentation_seq = iaa.Sequential([\n",
    "                      iaa.Sometimes(0.5, iaa.GaussianBlur(sigma=(0, 0.5))),\n",
    "                      iaa.Affine(\n",
    "                          scale={\"x\": (0.8, 1.0), \"y\": (0.8, 1.0)},\n",
    "                          rotate=(-25, 25),\n",
    "                          shear=(-5,5),\n",
    "                          cval=255\n",
    "                      )\n",
    "], random_order=True)\n",
    "\n",
    "\n",
    "augmentation_seq_2 = iaa.Sequential([\n",
    "                      iaa.Sometimes(0.5, iaa.GaussianBlur(sigma=(0, 0.5))),\n",
    "                      iaa.LinearContrast((0.75, 1.5)),\n",
    "                      iaa.Affine(\n",
    "                          scale={\"x\": (0.7, 1.0), \"y\": (0.7, 1.0)},\n",
    "                          rotate=(-45, 45),\n",
    "                          shear=(-10,10),\n",
    "                          translate_percent={\"x\": (-0.1, 0.1), \"y\": (-0.1, 0.1)},\n",
    "                          cval=255\n",
    "                      ),\n",
    "                      iaa.Multiply((0.8, 1.2), per_channel=0.25),\n",
    "                      iaa.AdditiveGaussianNoise(loc=0, scale=(0.0, 0.05*255), per_channel=0.3),\n",
    "                      iaa.Fliplr(0.3)\n",
    "], random_order=True)\n",
    "\n",
    "augmentation_seq_3 = iaa.Sequential([\n",
    "                      iaa.Sometimes(0.5, iaa.GaussianBlur(sigma=(0, 0.5))),\n",
    "                      iaa.LinearContrast((0.7, 1.75)),\n",
    "                      iaa.Affine(\n",
    "                          scale={\"x\": (0.7, 1.0), \"y\": (0.7, 1.0)},\n",
    "                          rotate=(-45, 45),\n",
    "                          shear=(-10,10),\n",
    "                          translate_percent={\"x\": (-0.1, 0.1), \"y\": (-0.1, 0.1)},\n",
    "                          cval=255\n",
    "                      ),\n",
    "                      iaa.Sometimes(0.7, iaa.AdditiveGaussianNoise(loc=0, scale=(0.0, 0.025*255))),\n",
    "                      iaa.Fliplr(0.3)\n",
    "], random_order=True)"
   ]
  },
  {
   "cell_type": "code",
   "execution_count": 13,
   "metadata": {
    "executionInfo": {
     "elapsed": 217909,
     "status": "ok",
     "timestamp": 1648059504725,
     "user": {
      "displayName": "Pedro Bedmar López",
      "photoUrl": "https://lh3.googleusercontent.com/a-/AOh14GgDTwUVI1l0xxb1JsPU-jpXD7nANK221nZ_Rfet=s64",
      "userId": "16390218131444039330"
     },
     "user_tz": -60
    },
    "id": "LAb4F_ld4mox"
   },
   "outputs": [],
   "source": [
    "import os\n",
    "import glob\n",
    "from sklearn.model_selection import train_test_split\n",
    "import cv2\n",
    "\n",
    "def aug(directory, directory_aug, aug_seq, repeat=2):\n",
    "  ia.seed(1)\n",
    "  directory = directory + \"/\"\n",
    "  filenames = glob.glob(directory+\"*.jpg\")\n",
    "\n",
    "  images = []\n",
    "  for filename in filenames:\n",
    "    img = cv2.imread(filename)\n",
    "    images.append(img)\n",
    "\n",
    "  augmented_images = images + aug_seq(images=images*repeat)\n",
    "\n",
    "  os.makedirs(directory+directory_aug, exist_ok=True)\n",
    "  count = 0\n",
    "  for img in augmented_images:\n",
    "    cv2.imwrite(directory+directory_aug+\"/\"+str(count)+\".jpg\", img)\n",
    "    count += 1"
   ]
  },
  {
   "cell_type": "markdown",
   "source": [
    "192x192 images"
   ],
   "metadata": {
    "collapsed": false,
    "pycharm": {
     "name": "#%% md\n"
    }
   }
  },
  {
   "cell_type": "code",
   "execution_count": 14,
   "outputs": [],
   "source": [
    "images_path = \"../../../datasets/negev/articles_molecules/\"\n",
    "preprop_images_path = images_path+\"preprocess/\""
   ],
   "metadata": {
    "collapsed": false,
    "pycharm": {
     "name": "#%%\n"
    }
   }
  },
  {
   "cell_type": "code",
   "execution_count": 15,
   "metadata": {
    "executionInfo": {
     "elapsed": 6,
     "status": "ok",
     "timestamp": 1648059505528,
     "user": {
      "displayName": "Pedro Bedmar López",
      "photoUrl": "https://lh3.googleusercontent.com/a-/AOh14GgDTwUVI1l0xxb1JsPU-jpXD7nANK221nZ_Rfet=s64",
      "userId": "16390218131444039330"
     },
     "user_tz": -60
    },
    "id": "VIQ6RUKp-7XB"
   },
   "outputs": [],
   "source": [
    "aug(preprop_images_path, \"aug\", augmentation_seq, repeat=2)\n",
    "gen_metadata(preprop_images_path+\"aug\")"
   ]
  },
  {
   "cell_type": "code",
   "execution_count": 16,
   "metadata": {},
   "outputs": [],
   "source": [
    "aug(preprop_images_path, \"aug2\", augmentation_seq_2, repeat=3)\n",
    "gen_metadata(preprop_images_path+\"aug2\")"
   ]
  },
  {
   "cell_type": "code",
   "execution_count": 17,
   "metadata": {},
   "outputs": [],
   "source": [
    "aug(preprop_images_path, \"aug3\", augmentation_seq_3, repeat=3)\n",
    "gen_metadata(preprop_images_path+\"aug3\")"
   ]
  },
  {
   "cell_type": "markdown",
   "metadata": {
    "pycharm": {
     "name": "#%% md\n"
    }
   },
   "source": [
    "256x256 images"
   ]
  },
  {
   "cell_type": "code",
   "execution_count": 18,
   "outputs": [],
   "source": [
    "images_path = \"../../../datasets/negev/articles_molecules/\"\n",
    "preprop_images_path = images_path+\"preprocess256/\""
   ],
   "metadata": {
    "collapsed": false,
    "pycharm": {
     "name": "#%%\n"
    }
   }
  },
  {
   "cell_type": "code",
   "execution_count": 19,
   "outputs": [],
   "source": [
    "aug(preprop_images_path, \"aug2\", augmentation_seq_2, repeat=3)\n",
    "gen_metadata(preprop_images_path+\"aug2\")"
   ],
   "metadata": {
    "collapsed": false,
    "pycharm": {
     "name": "#%%\n"
    }
   }
  },
  {
   "cell_type": "markdown",
   "source": [
    "384x384 images"
   ],
   "metadata": {
    "collapsed": false
   }
  },
  {
   "cell_type": "code",
   "execution_count": 21,
   "outputs": [],
   "source": [
    "images_path = \"../../../datasets/negev/articles_molecules/\"\n",
    "preprop_images_path = images_path+\"preprocess384/\""
   ],
   "metadata": {
    "collapsed": false,
    "pycharm": {
     "name": "#%%\n"
    }
   }
  },
  {
   "cell_type": "code",
   "execution_count": 22,
   "outputs": [],
   "source": [
    "aug(preprop_images_path, \"aug2\", augmentation_seq_2, repeat=3)\n",
    "gen_metadata(preprop_images_path+\"aug2\")"
   ],
   "metadata": {
    "collapsed": false,
    "pycharm": {
     "name": "#%%\n"
    }
   }
  },
  {
   "cell_type": "markdown",
   "source": [
    "### Combinando moléculas organometálicas y contraejemplos en un mismo directorio"
   ],
   "metadata": {
    "collapsed": false,
    "pycharm": {
     "name": "#%% md\n"
    }
   }
  },
  {
   "cell_type": "markdown",
   "source": [
    "Concretamente, vamos a combinar los resultados de articles_molecules/preprocess256/aug2 con not_molecules/preprocess256. Así obtendremos un dataset balanceado entre ejemplos positivos y negativos"
   ],
   "metadata": {
    "collapsed": false
   }
  },
  {
   "cell_type": "code",
   "execution_count": 14,
   "outputs": [],
   "source": [
    "positive_filenames = glob.glob(\"../../../datasets/negev/articles_molecules/preprocess256/aug2/\"+\"*.jpg\")\n",
    "negative_filenames = glob.glob(\"../../../datasets/negev/not_molecules/preprocess256/\"+\"*.jpg\")\n",
    "\n",
    "combined_filenames = positive_filenames + negative_filenames"
   ],
   "metadata": {
    "collapsed": false,
    "pycharm": {
     "name": "#%%\n"
    }
   }
  },
  {
   "cell_type": "code",
   "execution_count": 15,
   "outputs": [],
   "source": [
    "new_directory = \"../../../datasets/negev/combined/256\"\n",
    "os.makedirs(new_directory+\"/\", exist_ok=True)\n",
    "\n",
    "for i, filename in enumerate(combined_filenames):\n",
    "    img = cv2.imread(filename)\n",
    "    cv2.imwrite(new_directory+\"/\"+str(i)+\".jpg\", img)"
   ],
   "metadata": {
    "collapsed": false,
    "pycharm": {
     "name": "#%%\n"
    }
   }
  },
  {
   "cell_type": "code",
   "execution_count": 16,
   "outputs": [],
   "source": [
    "gen_metadata(new_directory)"
   ],
   "metadata": {
    "collapsed": false,
    "pycharm": {
     "name": "#%%\n"
    }
   }
  }
 ],
 "metadata": {
  "colab": {
   "collapsed_sections": [],
   "name": "data_generation_and_aug.ipynb",
   "provenance": []
  },
  "kernelspec": {
   "display_name": "Python 3 (ipykernel)",
   "language": "python",
   "name": "python3"
  },
  "language_info": {
   "codemirror_mode": {
    "name": "ipython",
    "version": 3
   },
   "file_extension": ".py",
   "mimetype": "text/x-python",
   "name": "python",
   "nbconvert_exporter": "python",
   "pygments_lexer": "ipython3",
   "version": "3.8.12"
  }
 },
 "nbformat": 4,
 "nbformat_minor": 1
}