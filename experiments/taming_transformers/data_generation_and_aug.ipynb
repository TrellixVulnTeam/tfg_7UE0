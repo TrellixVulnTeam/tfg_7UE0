{
 "cells": [
  {
   "cell_type": "code",
   "execution_count": 1,
   "metadata": {
    "colab": {
     "base_uri": "https://localhost:8080/"
    },
    "executionInfo": {
     "elapsed": 18375,
     "status": "ok",
     "timestamp": 1648059122420,
     "user": {
      "displayName": "Pedro Bedmar López",
      "photoUrl": "https://lh3.googleusercontent.com/a-/AOh14GgDTwUVI1l0xxb1JsPU-jpXD7nANK221nZ_Rfet=s64",
      "userId": "16390218131444039330"
     },
     "user_tz": -60
    },
    "id": "kcre8naKTT9-",
    "outputId": "0f5b85e9-3718-4e21-faec-0a2b522a5564",
    "scrolled": true
   },
   "outputs": [
    {
     "name": "stdout",
     "output_type": "stream",
     "text": [
      "Mounted at /content/drive\n"
     ]
    }
   ],
   "source": [
    "from google.colab import drive\n",
    "drive.mount(\"/content/drive\")"
   ]
  },
  {
   "cell_type": "markdown",
   "metadata": {},
   "source": [
    "Google Colab"
   ]
  },
  {
   "cell_type": "code",
   "execution_count": 2,
   "metadata": {
    "colab": {
     "base_uri": "https://localhost:8080/"
    },
    "executionInfo": {
     "elapsed": 413,
     "status": "ok",
     "timestamp": 1648059139765,
     "user": {
      "displayName": "Pedro Bedmar López",
      "photoUrl": "https://lh3.googleusercontent.com/a-/AOh14GgDTwUVI1l0xxb1JsPU-jpXD7nANK221nZ_Rfet=s64",
      "userId": "16390218131444039330"
     },
     "user_tz": -60
    },
    "id": "EhjJ7xBswAxw",
    "outputId": "fc266750-6bd2-4f59-c159-1a3aa447161a"
   },
   "outputs": [
    {
     "name": "stdout",
     "output_type": "stream",
     "text": [
      "/content/drive/MyDrive/4_ING_INFORMATICA/tfg/tfg/experiments/taming_transformers/taming-transformers\n"
     ]
    }
   ],
   "source": [
    "%cd /content/drive/MyDrive/4_ING_INFORMATICA/tfg/tfg/experiments/taming_transformers/taming-transformers"
   ]
  },
  {
   "cell_type": "markdown",
   "metadata": {},
   "source": [
    "NGPU server"
   ]
  },
  {
   "cell_type": "code",
   "execution_count": 1,
   "metadata": {},
   "outputs": [
    {
     "name": "stdout",
     "output_type": "stream",
     "text": [
      "/mnt/homeGPU1/pbedmar/pycharm/experiments/taming_transformers/taming-transformers\n"
     ]
    }
   ],
   "source": [
    "%cd /mnt/homeGPU1/pbedmar/pycharm/experiments/taming_transformers/taming-transformers/"
   ]
  },
  {
   "cell_type": "markdown",
   "metadata": {
    "id": "YQ9Kd8wP0BOY"
   },
   "source": [
    "### Preprocesando imágenes de moléculas organometálicas de la Universidad de Neguev (articles_molecules)"
   ]
  },
  {
   "cell_type": "code",
   "execution_count": 2,
   "metadata": {
    "executionInfo": {
     "elapsed": 696,
     "status": "ok",
     "timestamp": 1648059166389,
     "user": {
      "displayName": "Pedro Bedmar López",
      "photoUrl": "https://lh3.googleusercontent.com/a-/AOh14GgDTwUVI1l0xxb1JsPU-jpXD7nANK221nZ_Rfet=s64",
      "userId": "16390218131444039330"
     },
     "user_tz": -60
    },
    "id": "M9ms9mNVz9bZ"
   },
   "outputs": [],
   "source": [
    "import os\n",
    "import glob\n",
    "from sklearn.model_selection import train_test_split\n",
    "from PIL import Image, ImageOps"
   ]
  },
  {
   "cell_type": "code",
   "execution_count": 4,
   "metadata": {
    "executionInfo": {
     "elapsed": 4,
     "status": "ok",
     "timestamp": 1648059166390,
     "user": {
      "displayName": "Pedro Bedmar López",
      "photoUrl": "https://lh3.googleusercontent.com/a-/AOh14GgDTwUVI1l0xxb1JsPU-jpXD7nANK221nZ_Rfet=s64",
      "userId": "16390218131444039330"
     },
     "user_tz": -60
    },
    "id": "Hw9kMNrkzYju"
   },
   "outputs": [],
   "source": [
    "def resize_with_padding(img, required_size):\n",
    "  img.thumbnail((required_size, required_size))\n",
    "  delta_w = required_size - img.size[0]\n",
    "  delta_h = required_size - img.size[1]\n",
    "  pad_w = delta_w // 2\n",
    "  pad_h = delta_h // 2\n",
    "  padding = (pad_w, pad_h, delta_w - pad_w, delta_h - pad_h)\n",
    "  return ImageOps.expand(img, padding, fill=(255,255,255))"
   ]
  },
  {
   "cell_type": "code",
   "execution_count": 6,
   "metadata": {
    "executionInfo": {
     "elapsed": 64852,
     "status": "ok",
     "timestamp": 1648059284711,
     "user": {
      "displayName": "Pedro Bedmar López",
      "photoUrl": "https://lh3.googleusercontent.com/a-/AOh14GgDTwUVI1l0xxb1JsPU-jpXD7nANK221nZ_Rfet=s64",
      "userId": "16390218131444039330"
     },
     "user_tz": -60
    },
    "id": "G24wfgiw1Qnh"
   },
   "outputs": [],
   "source": [
    "images_path = \"../../../datasets/negev/articles_molecules/\"\n",
    "filenames = glob.glob(images_path+\"*.png\")\n",
    "\n",
    "os.makedirs(images_path+\"preprocess/\", exist_ok=True)\n",
    "\n",
    "required_size = 192\n",
    "for filename in filenames:\n",
    "  img = Image.open(filename)\n",
    "  width, height = img.size\n",
    "  img = resize_with_padding(img, required_size)\n",
    "  \n",
    "  img.convert(\"RGB\").save(images_path+\"preprocess/\"+filename.split(\"/\")[-1].replace(\"png\",\"jpg\"))"
   ]
  },
  {
   "cell_type": "code",
   "execution_count": 7,
   "metadata": {
    "executionInfo": {
     "elapsed": 7,
     "status": "ok",
     "timestamp": 1648059284712,
     "user": {
      "displayName": "Pedro Bedmar López",
      "photoUrl": "https://lh3.googleusercontent.com/a-/AOh14GgDTwUVI1l0xxb1JsPU-jpXD7nANK221nZ_Rfet=s64",
      "userId": "16390218131444039330"
     },
     "user_tz": -60
    },
    "id": "o8EabD0L0azC"
   },
   "outputs": [],
   "source": [
    "preprop_images_path = images_path+\"preprocess/\"\n",
    "filenames = glob.glob(preprop_images_path+\"*.jpg\")\n",
    "train, test = train_test_split(filenames, test_size=0.25, random_state=42)"
   ]
  },
  {
   "cell_type": "code",
   "execution_count": 8,
   "metadata": {
    "executionInfo": {
     "elapsed": 813,
     "status": "ok",
     "timestamp": 1648059285520,
     "user": {
      "displayName": "Pedro Bedmar López",
      "photoUrl": "https://lh3.googleusercontent.com/a-/AOh14GgDTwUVI1l0xxb1JsPU-jpXD7nANK221nZ_Rfet=s64",
      "userId": "16390218131444039330"
     },
     "user_tz": -60
    },
    "id": "6nRzXcaaBW30"
   },
   "outputs": [],
   "source": [
    "with open(preprop_images_path+\"xx_train.txt\", \"w\") as f:\n",
    "  for filename in train[:-1]:\n",
    "    f.write(filename+\"\\n\")\n",
    "  f.write(train[-1])\n",
    "\n",
    "with open(preprop_images_path+\"xx_test.txt\", \"w\") as f:\n",
    "  for filename in test[:-1]:\n",
    "    f.write(filename+\"\\n\")\n",
    "  f.write(test[-1])"
   ]
  },
  {
   "cell_type": "markdown",
   "metadata": {
    "id": "gsfwptG30dDO"
   },
   "source": [
    "### Aumentando dataset"
   ]
  },
  {
   "cell_type": "code",
   "execution_count": 34,
   "metadata": {
    "executionInfo": {
     "elapsed": 1301,
     "status": "ok",
     "timestamp": 1648059286818,
     "user": {
      "displayName": "Pedro Bedmar López",
      "photoUrl": "https://lh3.googleusercontent.com/a-/AOh14GgDTwUVI1l0xxb1JsPU-jpXD7nANK221nZ_Rfet=s64",
      "userId": "16390218131444039330"
     },
     "user_tz": -60
    },
    "id": "Gkpo0nyJ0sx1"
   },
   "outputs": [],
   "source": [
    "import imgaug as ia\n",
    "from imgaug import augmenters as iaa\n",
    "\n",
    "augmentation_seq = iaa.Sequential([\n",
    "                      iaa.Sometimes(0.5, iaa.GaussianBlur(sigma=(0, 0.5))),\n",
    "                      iaa.Affine(\n",
    "                          scale={\"x\": (0.8, 1.0), \"y\": (0.8, 1.0)},\n",
    "                          rotate=(-25, 25),\n",
    "                          shear=(-5,5),\n",
    "                          cval=255\n",
    "                      )\n",
    "], random_order=True)\n",
    "\n",
    "\n",
    "augmentation_seq_2 = iaa.Sequential([\n",
    "                      iaa.Sometimes(0.5, iaa.GaussianBlur(sigma=(0, 0.5))),\n",
    "                      iaa.LinearContrast((0.75, 1.5)),\n",
    "                      iaa.Affine(\n",
    "                          scale={\"x\": (0.7, 1.0), \"y\": (0.7, 1.0)},\n",
    "                          rotate=(-45, 45),\n",
    "                          shear=(-10,10),\n",
    "                          translate_percent={\"x\": (-0.1, 0.1), \"y\": (-0.1, 0.1)},\n",
    "                          cval=255\n",
    "                      ),\n",
    "                      iaa.Multiply((0.8, 1.2), per_channel=0.25),\n",
    "                      iaa.AdditiveGaussianNoise(loc=0, scale=(0.0, 0.05*255), per_channel=0.3),\n",
    "                      iaa.Fliplr(0.3)\n",
    "], random_order=True)\n",
    "\n",
    "augmentation_seq_3 = iaa.Sequential([\n",
    "                      iaa.Sometimes(0.5, iaa.GaussianBlur(sigma=(0, 0.5))),\n",
    "                      iaa.LinearContrast((0.7, 1.75)),\n",
    "                      iaa.Affine(\n",
    "                          scale={\"x\": (0.7, 1.0), \"y\": (0.7, 1.0)},\n",
    "                          rotate=(-45, 45),\n",
    "                          shear=(-10,10),\n",
    "                          translate_percent={\"x\": (-0.1, 0.1), \"y\": (-0.1, 0.1)},\n",
    "                          cval=255\n",
    "                      ),\n",
    "                      iaa.Sometimes(0.7, iaa.AdditiveGaussianNoise(loc=0, scale=(0.0, 0.025*255))),\n",
    "                      iaa.Fliplr(0.3)\n",
    "], random_order=True)"
   ]
  },
  {
   "cell_type": "code",
   "execution_count": 32,
   "metadata": {
    "executionInfo": {
     "elapsed": 217909,
     "status": "ok",
     "timestamp": 1648059504725,
     "user": {
      "displayName": "Pedro Bedmar López",
      "photoUrl": "https://lh3.googleusercontent.com/a-/AOh14GgDTwUVI1l0xxb1JsPU-jpXD7nANK221nZ_Rfet=s64",
      "userId": "16390218131444039330"
     },
     "user_tz": -60
    },
    "id": "LAb4F_ld4mox"
   },
   "outputs": [],
   "source": [
    "import os\n",
    "import glob\n",
    "from sklearn.model_selection import train_test_split\n",
    "import cv2\n",
    "\n",
    "def aug(directory, aug_seq, repeat=2):\n",
    "  ia.seed(1)\n",
    "  images_path = \"../../../datasets/negev/articles_molecules/\"\n",
    "  preprop_images_path = images_path+\"preprocess/\"\n",
    "  filenames = glob.glob(preprop_images_path+\"*.jpg\")\n",
    "\n",
    "  images = []\n",
    "  for filename in filenames:\n",
    "    img = cv2.imread(filename)\n",
    "    images.append(img)\n",
    "\n",
    "  augmented_images = images + aug_seq(images=images*repeat)\n",
    "\n",
    "  os.makedirs(preprop_images_path+directory, exist_ok=True)\n",
    "  count = 0\n",
    "  for img in augmented_images:\n",
    "    cv2.imwrite(preprop_images_path+directory+\"/\"+str(count)+\".jpg\", img)\n",
    "    count += 1\n",
    "\n",
    "def gen_metadata(directory):\n",
    "  images_path = \"../../../datasets/negev/articles_molecules/\"\n",
    "  preprop_images_path = images_path+\"preprocess/\"\n",
    "  preprop_aug_images_path = preprop_images_path+directory+\"/\"\n",
    "  filenames = glob.glob(preprop_aug_images_path+\"*.jpg\")\n",
    "  train, test = train_test_split(filenames, test_size=0.25, random_state=42)\n",
    "\n",
    "  with open(preprop_aug_images_path+\"xx_train.txt\", \"w\") as f:\n",
    "    for filename in train[:-1]:\n",
    "      f.write(filename+\"\\n\")\n",
    "    f.write(train[-1])\n",
    "\n",
    "  with open(preprop_aug_images_path+\"xx_test.txt\", \"w\") as f:\n",
    "    for filename in test[:-1]:\n",
    "      f.write(filename+\"\\n\")\n",
    "    f.write(test[-1])"
   ]
  },
  {
   "cell_type": "code",
   "execution_count": 4,
   "metadata": {
    "executionInfo": {
     "elapsed": 6,
     "status": "ok",
     "timestamp": 1648059505528,
     "user": {
      "displayName": "Pedro Bedmar López",
      "photoUrl": "https://lh3.googleusercontent.com/a-/AOh14GgDTwUVI1l0xxb1JsPU-jpXD7nANK221nZ_Rfet=s64",
      "userId": "16390218131444039330"
     },
     "user_tz": -60
    },
    "id": "VIQ6RUKp-7XB"
   },
   "outputs": [],
   "source": [
    "aug(\"aug\", augmentation_seq, repeat=2)\n",
    "gen_metadata(\"aug\")"
   ]
  },
  {
   "cell_type": "code",
   "execution_count": 5,
   "metadata": {},
   "outputs": [],
   "source": [
    "aug(\"aug2\", augmentation_seq_2, repeat=3)\n",
    "gen_metadata(\"aug2\")"
   ]
  },
  {
   "cell_type": "code",
   "execution_count": 35,
   "metadata": {},
   "outputs": [],
   "source": [
    "aug(\"aug3\", augmentation_seq_3, repeat=3)\n",
    "gen_metadata(\"aug3\")"
   ]
  },
  {
   "cell_type": "code",
   "execution_count": null,
   "metadata": {},
   "outputs": [],
   "source": []
  }
 ],
 "metadata": {
  "colab": {
   "collapsed_sections": [],
   "name": "data_generation_and_aug.ipynb",
   "provenance": []
  },
  "kernelspec": {
   "display_name": "Python 3 (ipykernel)",
   "language": "python",
   "name": "python3"
  },
  "language_info": {
   "codemirror_mode": {
    "name": "ipython",
    "version": 3
   },
   "file_extension": ".py",
   "mimetype": "text/x-python",
   "name": "python",
   "nbconvert_exporter": "python",
   "pygments_lexer": "ipython3",
   "version": "3.8.12"
  }
 },
 "nbformat": 4,
 "nbformat_minor": 1
}