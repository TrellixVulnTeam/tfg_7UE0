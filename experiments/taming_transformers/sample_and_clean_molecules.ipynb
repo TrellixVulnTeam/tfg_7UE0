{
 "cells": [
  {
   "cell_type": "code",
   "execution_count": 24,
   "metadata": {
    "collapsed": true
   },
   "outputs": [
    {
     "name": "stdout",
     "output_type": "stream",
     "text": [
      "/mnt/homeGPU1/pbedmar/pycharm/experiments/taming_transformers\n"
     ]
    }
   ],
   "source": [
    "%cd \"/mnt/homeGPU1/pbedmar/pycharm/experiments/taming_transformers/\""
   ]
  },
  {
   "cell_type": "code",
   "execution_count": 199,
   "outputs": [
    {
     "data": {
      "text/plain": "True"
     },
     "execution_count": 199,
     "metadata": {},
     "output_type": "execute_result"
    }
   ],
   "source": [
    "import cv2\n",
    "import numpy as np\n",
    "from PIL import Image, ImageEnhance\n",
    "import matplotlib.pyplot as plt\n",
    "\n",
    "img = Image.open(\"validation/aug2.jpg\")\n",
    "img = ImageEnhance.Contrast(img).enhance(2)\n",
    "\n",
    "# PIL to cv2\n",
    "img = np.array(img)\n",
    "cv2.imwrite(\"validation/00aug2_contrast.jpg\",img)\n",
    "\n",
    "img = cv2.bitwise_not(img)\n",
    "ret, img = cv2.threshold(img, 60, 255, cv2.THRESH_TOZERO)\n",
    "cv2.imwrite(\"validation/01aug2_thesh.jpg\",img)\n",
    "\n",
    "kernel = np.ones((2,2),np.uint8)\n",
    "img = cv2.dilate(img,kernel,iterations = 1)\n",
    "cv2.imwrite(\"validation/02aug2_dilate.jpg\",img)\n",
    "\n",
    "img = cv2.bitwise_not(img)\n",
    "\n",
    "cv2.imwrite(\"validation/03aug2_inverted.jpg\",img)"
   ],
   "metadata": {
    "collapsed": false,
    "pycharm": {
     "name": "#%%\n"
    }
   }
  },
  {
   "cell_type": "code",
   "execution_count": 155,
   "outputs": [
    {
     "data": {
      "text/plain": "True"
     },
     "execution_count": 155,
     "metadata": {},
     "output_type": "execute_result"
    }
   ],
   "source": [
    "img = Image.open(\"validation/aug2.jpg\")\n",
    "img = ImageEnhance.Contrast(img).enhance(2)\n",
    "\n",
    "# PIL to cv2\n",
    "img = cv2.imread(\"validation/aug2.jpg\")\n",
    "# img[img > 200] = 255\n",
    "# img[img <= 201] = 0\n",
    "# cv2.imwrite(\"validation/20aug2_contrast.jpg\",img)\n",
    "\n",
    "#ret, img = cv2.threshold(img, 160, 255, cv2.THRESH_BINARY_INV)\n",
    "cv2.inRange(img,np.array(0,))\n",
    "cv2.imwrite(\"validation/21aug2_thesh.jpg\",img)\n",
    "\n",
    "#img = cv2.morphologyEx(img, cv2.MORPH_OPEN, kernel)\n",
    "#img = cv2.dilate(img,kernel,iterations = 1)\n",
    "cv2.imwrite(\"validation/22aug2_dilate.jpg\",img)\n",
    "\n",
    "cv2.imwrite(\"validation/23aug2_inverted.jpg\",img)"
   ],
   "metadata": {
    "collapsed": false,
    "pycharm": {
     "name": "#%%\n"
    }
   }
  },
  {
   "cell_type": "code",
   "execution_count": 216,
   "outputs": [
    {
     "data": {
      "text/plain": "True"
     },
     "execution_count": 216,
     "metadata": {},
     "output_type": "execute_result"
    }
   ],
   "source": [
    "img = cv2.imread(\"validation/aug2.jpg\")\n",
    "mask = cv2.inRange(img, np.array([0,0,0]), np.array([210,210,210]))\n",
    "cv2.imwrite(\"validation/30aug2.jpg\",mask)\n",
    "\n",
    "img = cv2.cvtColor(img, cv2.COLOR_BGR2RGB)\n",
    "img_pil = Image.fromarray(img)\n",
    "img_pil = ImageEnhance.Contrast(img_pil).enhance(2.5)\n",
    "img = np.asarray(img_pil)\n",
    "cv2.imwrite(\"validation/301aug2.jpg\",img)\n",
    "\n",
    "kernel = np.ones((2,2),np.uint8)\n",
    "mask = cv2.morphologyEx(mask, cv2.MORPH_OPEN, kernel)\n",
    "cv2.imwrite(\"validation/31aug2.jpg\",mask)\n",
    "\n",
    "kernel = np.ones((3,3),np.uint8)\n",
    "mask = cv2.dilate(mask,kernel,iterations = 1)\n",
    "cv2.imwrite(\"validation/32aug2.jpg\",mask)\n",
    "\n",
    "mask = cv2.GaussianBlur(mask, (0,0), sigmaX=2, sigmaY=2, borderType = cv2.BORDER_DEFAULT)\n",
    "cv2.imwrite(\"validation/33aug2.jpg\",mask)\n",
    "\n",
    "# img = cv2.bitwise_and(img, img, mask=mask)\n",
    "# img[mask == 0] = 255\n",
    "mask_3ch = np.zeros_like(img)\n",
    "mask_3ch[:,:,0] = mask\n",
    "mask_3ch[:,:,1] = mask\n",
    "mask_3ch[:,:,2] = mask\n",
    "white = np.ones_like(mask_3ch)\n",
    "img = img * (mask_3ch/255) + white*(255-mask_3ch)\n",
    "\n",
    "cv2.imwrite(\"validation/34aug2.jpg\",img)"
   ],
   "metadata": {
    "collapsed": false,
    "pycharm": {
     "name": "#%%\n"
    }
   }
  },
  {
   "cell_type": "code",
   "execution_count": 185,
   "outputs": [],
   "source": [
    "import skimage.exposure"
   ],
   "metadata": {
    "collapsed": false,
    "pycharm": {
     "name": "#%%\n"
    }
   }
  },
  {
   "cell_type": "code",
   "execution_count": null,
   "outputs": [],
   "source": [],
   "metadata": {
    "collapsed": false,
    "pycharm": {
     "name": "#%%\n"
    }
   }
  }
 ],
 "metadata": {
  "kernelspec": {
   "display_name": "Python 3",
   "language": "python",
   "name": "python3"
  },
  "language_info": {
   "codemirror_mode": {
    "name": "ipython",
    "version": 2
   },
   "file_extension": ".py",
   "mimetype": "text/x-python",
   "name": "python",
   "nbconvert_exporter": "python",
   "pygments_lexer": "ipython2",
   "version": "2.7.6"
  }
 },
 "nbformat": 4,
 "nbformat_minor": 0
}